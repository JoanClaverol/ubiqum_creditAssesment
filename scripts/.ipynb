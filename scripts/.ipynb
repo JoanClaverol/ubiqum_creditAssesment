{
 "cells": [
  {
   "cell_type": "markdown",
   "metadata": {},
   "source": [
    "## Define the goals"
   ]
  },
  {
   "cell_type": "markdown",
   "metadata": {
    "ExecuteTime": {
     "end_time": "2019-06-25T11:00:18.405102Z",
     "start_time": "2019-06-25T11:00:18.388110Z"
    }
   },
   "source": [
    "we have to focus the **BADIR** perspective; \n",
    "\n",
    "* **B** *usiness question*\n",
    "    - What is the stated business question?\n",
    "    - What is the intent underlying the question (e.g., what is the context, what is the impacted segment, and what are stakeholders’ current thoughts about the underlying reasons?\n",
    "    - What business considerations (e.g., stakeholders, timeline, and cost) are likely to impact the analysis?\n",
    "\n",
    "* **A** *nalysis plan*\n",
    "    - What is the analysis goal?\n",
    "    - What hypotheses are to be tested?\n",
    "    - What data is required/available to test the hypotheses?\n",
    "    - What methodology(-ies) will you employ?\n",
    "    - What is the project plan (timeline and milestones, risks, phasing, prioritization, …)?\n",
    "\n",
    "* **D** *ata collection*\n",
    "    - From where can the data be obtained?\n",
    "    - How must the data be cleansed and validated?\n",
    "\n",
    "* **I** *nsights*\n",
    "    - What patterns do you see in the data?\n",
    "    - Are each of the hypotheses proven or disproven?\n",
    "    - How much confidence should stakeholders place in the results?\n",
    "    - How do you rank your findings in terms of quantified impact on the business?\n",
    "\n",
    "* **R** *ecommendation*\n",
    "    - How can you most effectively present the results of your analysis to your stakeholders (in terms they can understand and in alignment with information they’ll value)?\n",
    "    - Note: A generic template for a recommendation presentation or report might include:\n",
    "    - Objective: Background (optional), Scope (optional), Approach (optional), Recommendations, Key insights with impact, Next steps"
   ]
  },
  {
   "cell_type": "code",
   "execution_count": 7,
   "metadata": {
    "ExecuteTime": {
     "end_time": "2019-06-26T13:31:19.496843Z",
     "start_time": "2019-06-26T13:31:19.489859Z"
    }
   },
   "outputs": [],
   "source": [
    "# import libraries\n",
    "import math\n",
    "import numpy as pn\n",
    "from scipy import stats"
   ]
  },
  {
   "cell_type": "code",
   "execution_count": 8,
   "metadata": {
    "ExecuteTime": {
     "end_time": "2019-06-26T13:31:20.600917Z",
     "start_time": "2019-06-26T13:31:20.594932Z"
    }
   },
   "outputs": [],
   "source": [
    "temp = math.sqrt(25)"
   ]
  },
  {
   "cell_type": "code",
   "execution_count": 9,
   "metadata": {
    "ExecuteTime": {
     "end_time": "2019-06-26T13:31:21.496525Z",
     "start_time": "2019-06-26T13:31:21.489536Z"
    }
   },
   "outputs": [],
   "source": [
    "temp = np.random.rand(5,5)"
   ]
  },
  {
   "cell_type": "code",
   "execution_count": 10,
   "metadata": {
    "ExecuteTime": {
     "end_time": "2019-06-26T13:31:22.584517Z",
     "start_time": "2019-06-26T13:31:22.578531Z"
    }
   },
   "outputs": [],
   "source": [
    "temp_mean = np.mean(temp)"
   ]
  },
  {
   "cell_type": "code",
   "execution_count": 13,
   "metadata": {
    "ExecuteTime": {
     "end_time": "2019-06-26T13:31:26.010430Z",
     "start_time": "2019-06-26T13:31:26.001945Z"
    }
   },
   "outputs": [
    {
     "data": {
      "text/plain": [
       "0.5673006967134968"
      ]
     },
     "execution_count": 13,
     "metadata": {},
     "output_type": "execute_result"
    }
   ],
   "source": [
    "np.mean(temp_mean)"
   ]
  },
  {
   "cell_type": "code",
   "execution_count": 14,
   "metadata": {
    "ExecuteTime": {
     "end_time": "2019-06-26T13:31:27.225776Z",
     "start_time": "2019-06-26T13:31:27.217790Z"
    }
   },
   "outputs": [
    {
     "data": {
      "text/plain": [
       "int"
      ]
     },
     "execution_count": 14,
     "metadata": {},
     "output_type": "execute_result"
    }
   ],
   "source": [
    "temp = 25\n",
    "type(temp)"
   ]
  },
  {
   "cell_type": "code",
   "execution_count": 15,
   "metadata": {
    "ExecuteTime": {
     "end_time": "2019-06-26T13:31:28.123807Z",
     "start_time": "2019-06-26T13:31:28.114824Z"
    }
   },
   "outputs": [
    {
     "data": {
      "text/plain": [
       "float"
      ]
     },
     "execution_count": 15,
     "metadata": {},
     "output_type": "execute_result"
    }
   ],
   "source": [
    "temp = 25.0\n",
    "type(temp)"
   ]
  },
  {
   "cell_type": "code",
   "execution_count": 16,
   "metadata": {
    "ExecuteTime": {
     "end_time": "2019-06-26T13:31:29.660772Z",
     "start_time": "2019-06-26T13:31:29.651294Z"
    }
   },
   "outputs": [
    {
     "data": {
      "text/plain": [
       "[2, 3]"
      ]
     },
     "execution_count": 16,
     "metadata": {},
     "output_type": "execute_result"
    }
   ],
   "source": [
    "listOne = [1, 2, 3, 4]\n",
    "listOne[1:3]"
   ]
  },
  {
   "cell_type": "code",
   "execution_count": 17,
   "metadata": {
    "ExecuteTime": {
     "end_time": "2019-06-26T13:31:31.010585Z",
     "start_time": "2019-06-26T13:31:30.998108Z"
    }
   },
   "outputs": [
    {
     "data": {
      "text/plain": [
       "4098"
      ]
     },
     "execution_count": 17,
     "metadata": {},
     "output_type": "execute_result"
    }
   ],
   "source": [
    "# dictionary creation\n",
    "tel = {\"jack\": 4098, \n",
    "       \"sape\": 4139}\n",
    "tel[\"jack\"]"
   ]
  },
  {
   "cell_type": "markdown",
   "metadata": {
    "ExecuteTime": {
     "end_time": "2019-06-25T12:59:28.412854Z",
     "start_time": "2019-06-25T12:59:28.406840Z"
    }
   },
   "source": [
    "## Prepare and explore the data"
   ]
  },
  {
   "cell_type": "markdown",
   "metadata": {},
   "source": [
    "Problem:\n",
    "1. Increase in customer default rates - This is bad for Credit One since we approve the customers for loans in the first place.\n",
    "2. Revenue and customer loss for clients and, eventually, loss of clients for Credit One\n",
    "\n",
    "Investigative Questions:\n",
    "1. How do you ensure that customers can/will pay their loans? Can we do this?\n",
    "\n",
    "As you progress through the tasks at hand begin thinking about how to solve this problem. Here are some lessons we learned form a similar problem we addressed last year:\n",
    "1. We cannot control customer spending habits\n",
    "2. We cannot always go from what we find in our analysis to the underlying \"why\"\n",
    "3. We must on the problem(s) we can solve: What attributes in the data can we deem to be statistically significant to the problem at hand?\n",
    "4. What concrete information can we derive from the data we have?\n",
    "5. What proven methods can we use to uncover more information and why?"
   ]
  },
  {
   "cell_type": "code",
   "execution_count": 18,
   "metadata": {
    "ExecuteTime": {
     "end_time": "2019-06-26T13:31:39.957142Z",
     "start_time": "2019-06-26T13:31:35.745846Z"
    }
   },
   "outputs": [],
   "source": [
    "# import libraries to use\n",
    "import pandas as pd"
   ]
  },
  {
   "cell_type": "markdown",
   "metadata": {},
   "source": [
    "### Import the data we are going to explore"
   ]
  },
  {
   "cell_type": "code",
   "execution_count": 19,
   "metadata": {
    "ExecuteTime": {
     "end_time": "2019-06-26T13:31:40.431120Z",
     "start_time": "2019-06-26T13:31:40.088402Z"
    }
   },
   "outputs": [],
   "source": [
    "wd_path = \"C:/Users/romcl/OneDrive/Documents/UbiqumCodeAcademy/projects/python_creditAnalysis/\"\n",
    "data = pd.read_csv(wd_path + \"data/default of credit card clients.csv\", header = 1)"
   ]
  },
  {
   "cell_type": "code",
   "execution_count": 20,
   "metadata": {
    "ExecuteTime": {
     "end_time": "2019-06-26T13:31:41.100859Z",
     "start_time": "2019-06-26T13:31:41.082893Z"
    }
   },
   "outputs": [
    {
     "data": {
      "text/plain": [
       "(30000, 25)"
      ]
     },
     "execution_count": 20,
     "metadata": {},
     "output_type": "execute_result"
    }
   ],
   "source": [
    "# understand the shape of the data\n",
    "data.shape"
   ]
  },
  {
   "cell_type": "code",
   "execution_count": 21,
   "metadata": {
    "ExecuteTime": {
     "end_time": "2019-06-26T13:31:41.758638Z",
     "start_time": "2019-06-26T13:31:41.739673Z"
    }
   },
   "outputs": [
    {
     "data": {
      "text/plain": [
       "array(['ID', 'LIMIT_BAL', 'SEX', 'EDUCATION', 'MARRIAGE', 'AGE', 'PAY_0',\n",
       "       'PAY_2', 'PAY_3', 'PAY_4', 'PAY_5', 'PAY_6', 'BILL_AMT1',\n",
       "       'BILL_AMT2', 'BILL_AMT3', 'BILL_AMT4', 'BILL_AMT5', 'BILL_AMT6',\n",
       "       'PAY_AMT1', 'PAY_AMT2', 'PAY_AMT3', 'PAY_AMT4', 'PAY_AMT5',\n",
       "       'PAY_AMT6', 'default payment next month'], dtype=object)"
      ]
     },
     "execution_count": 21,
     "metadata": {},
     "output_type": "execute_result"
    }
   ],
   "source": [
    "# look for the column names\n",
    "data.columns.values"
   ]
  },
  {
   "cell_type": "code",
   "execution_count": 22,
   "metadata": {
    "ExecuteTime": {
     "end_time": "2019-06-26T13:31:42.758302Z",
     "start_time": "2019-06-26T13:31:42.451851Z"
    }
   },
   "outputs": [
    {
     "data": {
      "text/html": [
       "<div>\n",
       "<style scoped>\n",
       "    .dataframe tbody tr th:only-of-type {\n",
       "        vertical-align: middle;\n",
       "    }\n",
       "\n",
       "    .dataframe tbody tr th {\n",
       "        vertical-align: top;\n",
       "    }\n",
       "\n",
       "    .dataframe thead th {\n",
       "        text-align: right;\n",
       "    }\n",
       "</style>\n",
       "<table border=\"1\" class=\"dataframe\">\n",
       "  <thead>\n",
       "    <tr style=\"text-align: right;\">\n",
       "      <th></th>\n",
       "      <th>ID</th>\n",
       "      <th>LIMIT_BAL</th>\n",
       "      <th>SEX</th>\n",
       "      <th>EDUCATION</th>\n",
       "      <th>MARRIAGE</th>\n",
       "      <th>AGE</th>\n",
       "      <th>PAY_0</th>\n",
       "      <th>PAY_2</th>\n",
       "      <th>PAY_3</th>\n",
       "      <th>PAY_4</th>\n",
       "      <th>...</th>\n",
       "      <th>BILL_AMT4</th>\n",
       "      <th>BILL_AMT5</th>\n",
       "      <th>BILL_AMT6</th>\n",
       "      <th>PAY_AMT1</th>\n",
       "      <th>PAY_AMT2</th>\n",
       "      <th>PAY_AMT3</th>\n",
       "      <th>PAY_AMT4</th>\n",
       "      <th>PAY_AMT5</th>\n",
       "      <th>PAY_AMT6</th>\n",
       "      <th>default payment next month</th>\n",
       "    </tr>\n",
       "  </thead>\n",
       "  <tbody>\n",
       "    <tr>\n",
       "      <th>count</th>\n",
       "      <td>30000.000000</td>\n",
       "      <td>30000.000000</td>\n",
       "      <td>30000.000000</td>\n",
       "      <td>30000.000000</td>\n",
       "      <td>30000.000000</td>\n",
       "      <td>30000.000000</td>\n",
       "      <td>30000.000000</td>\n",
       "      <td>30000.000000</td>\n",
       "      <td>30000.000000</td>\n",
       "      <td>30000.000000</td>\n",
       "      <td>...</td>\n",
       "      <td>30000.000000</td>\n",
       "      <td>30000.000000</td>\n",
       "      <td>30000.000000</td>\n",
       "      <td>30000.000000</td>\n",
       "      <td>3.000000e+04</td>\n",
       "      <td>30000.00000</td>\n",
       "      <td>30000.000000</td>\n",
       "      <td>30000.000000</td>\n",
       "      <td>30000.000000</td>\n",
       "      <td>30000.000000</td>\n",
       "    </tr>\n",
       "    <tr>\n",
       "      <th>mean</th>\n",
       "      <td>15000.500000</td>\n",
       "      <td>167484.322667</td>\n",
       "      <td>1.603733</td>\n",
       "      <td>1.853133</td>\n",
       "      <td>1.551867</td>\n",
       "      <td>35.485500</td>\n",
       "      <td>-0.016700</td>\n",
       "      <td>-0.133767</td>\n",
       "      <td>-0.166200</td>\n",
       "      <td>-0.220667</td>\n",
       "      <td>...</td>\n",
       "      <td>43262.948967</td>\n",
       "      <td>40311.400967</td>\n",
       "      <td>38871.760400</td>\n",
       "      <td>5663.580500</td>\n",
       "      <td>5.921163e+03</td>\n",
       "      <td>5225.68150</td>\n",
       "      <td>4826.076867</td>\n",
       "      <td>4799.387633</td>\n",
       "      <td>5215.502567</td>\n",
       "      <td>0.221200</td>\n",
       "    </tr>\n",
       "    <tr>\n",
       "      <th>std</th>\n",
       "      <td>8660.398374</td>\n",
       "      <td>129747.661567</td>\n",
       "      <td>0.489129</td>\n",
       "      <td>0.790349</td>\n",
       "      <td>0.521970</td>\n",
       "      <td>9.217904</td>\n",
       "      <td>1.123802</td>\n",
       "      <td>1.197186</td>\n",
       "      <td>1.196868</td>\n",
       "      <td>1.169139</td>\n",
       "      <td>...</td>\n",
       "      <td>64332.856134</td>\n",
       "      <td>60797.155770</td>\n",
       "      <td>59554.107537</td>\n",
       "      <td>16563.280354</td>\n",
       "      <td>2.304087e+04</td>\n",
       "      <td>17606.96147</td>\n",
       "      <td>15666.159744</td>\n",
       "      <td>15278.305679</td>\n",
       "      <td>17777.465775</td>\n",
       "      <td>0.415062</td>\n",
       "    </tr>\n",
       "    <tr>\n",
       "      <th>min</th>\n",
       "      <td>1.000000</td>\n",
       "      <td>10000.000000</td>\n",
       "      <td>1.000000</td>\n",
       "      <td>0.000000</td>\n",
       "      <td>0.000000</td>\n",
       "      <td>21.000000</td>\n",
       "      <td>-2.000000</td>\n",
       "      <td>-2.000000</td>\n",
       "      <td>-2.000000</td>\n",
       "      <td>-2.000000</td>\n",
       "      <td>...</td>\n",
       "      <td>-170000.000000</td>\n",
       "      <td>-81334.000000</td>\n",
       "      <td>-339603.000000</td>\n",
       "      <td>0.000000</td>\n",
       "      <td>0.000000e+00</td>\n",
       "      <td>0.00000</td>\n",
       "      <td>0.000000</td>\n",
       "      <td>0.000000</td>\n",
       "      <td>0.000000</td>\n",
       "      <td>0.000000</td>\n",
       "    </tr>\n",
       "    <tr>\n",
       "      <th>25%</th>\n",
       "      <td>7500.750000</td>\n",
       "      <td>50000.000000</td>\n",
       "      <td>1.000000</td>\n",
       "      <td>1.000000</td>\n",
       "      <td>1.000000</td>\n",
       "      <td>28.000000</td>\n",
       "      <td>-1.000000</td>\n",
       "      <td>-1.000000</td>\n",
       "      <td>-1.000000</td>\n",
       "      <td>-1.000000</td>\n",
       "      <td>...</td>\n",
       "      <td>2326.750000</td>\n",
       "      <td>1763.000000</td>\n",
       "      <td>1256.000000</td>\n",
       "      <td>1000.000000</td>\n",
       "      <td>8.330000e+02</td>\n",
       "      <td>390.00000</td>\n",
       "      <td>296.000000</td>\n",
       "      <td>252.500000</td>\n",
       "      <td>117.750000</td>\n",
       "      <td>0.000000</td>\n",
       "    </tr>\n",
       "    <tr>\n",
       "      <th>50%</th>\n",
       "      <td>15000.500000</td>\n",
       "      <td>140000.000000</td>\n",
       "      <td>2.000000</td>\n",
       "      <td>2.000000</td>\n",
       "      <td>2.000000</td>\n",
       "      <td>34.000000</td>\n",
       "      <td>0.000000</td>\n",
       "      <td>0.000000</td>\n",
       "      <td>0.000000</td>\n",
       "      <td>0.000000</td>\n",
       "      <td>...</td>\n",
       "      <td>19052.000000</td>\n",
       "      <td>18104.500000</td>\n",
       "      <td>17071.000000</td>\n",
       "      <td>2100.000000</td>\n",
       "      <td>2.009000e+03</td>\n",
       "      <td>1800.00000</td>\n",
       "      <td>1500.000000</td>\n",
       "      <td>1500.000000</td>\n",
       "      <td>1500.000000</td>\n",
       "      <td>0.000000</td>\n",
       "    </tr>\n",
       "    <tr>\n",
       "      <th>75%</th>\n",
       "      <td>22500.250000</td>\n",
       "      <td>240000.000000</td>\n",
       "      <td>2.000000</td>\n",
       "      <td>2.000000</td>\n",
       "      <td>2.000000</td>\n",
       "      <td>41.000000</td>\n",
       "      <td>0.000000</td>\n",
       "      <td>0.000000</td>\n",
       "      <td>0.000000</td>\n",
       "      <td>0.000000</td>\n",
       "      <td>...</td>\n",
       "      <td>54506.000000</td>\n",
       "      <td>50190.500000</td>\n",
       "      <td>49198.250000</td>\n",
       "      <td>5006.000000</td>\n",
       "      <td>5.000000e+03</td>\n",
       "      <td>4505.00000</td>\n",
       "      <td>4013.250000</td>\n",
       "      <td>4031.500000</td>\n",
       "      <td>4000.000000</td>\n",
       "      <td>0.000000</td>\n",
       "    </tr>\n",
       "    <tr>\n",
       "      <th>max</th>\n",
       "      <td>30000.000000</td>\n",
       "      <td>1000000.000000</td>\n",
       "      <td>2.000000</td>\n",
       "      <td>6.000000</td>\n",
       "      <td>3.000000</td>\n",
       "      <td>79.000000</td>\n",
       "      <td>8.000000</td>\n",
       "      <td>8.000000</td>\n",
       "      <td>8.000000</td>\n",
       "      <td>8.000000</td>\n",
       "      <td>...</td>\n",
       "      <td>891586.000000</td>\n",
       "      <td>927171.000000</td>\n",
       "      <td>961664.000000</td>\n",
       "      <td>873552.000000</td>\n",
       "      <td>1.684259e+06</td>\n",
       "      <td>896040.00000</td>\n",
       "      <td>621000.000000</td>\n",
       "      <td>426529.000000</td>\n",
       "      <td>528666.000000</td>\n",
       "      <td>1.000000</td>\n",
       "    </tr>\n",
       "  </tbody>\n",
       "</table>\n",
       "<p>8 rows × 25 columns</p>\n",
       "</div>"
      ],
      "text/plain": [
       "                 ID       LIMIT_BAL           SEX     EDUCATION      MARRIAGE  \\\n",
       "count  30000.000000    30000.000000  30000.000000  30000.000000  30000.000000   \n",
       "mean   15000.500000   167484.322667      1.603733      1.853133      1.551867   \n",
       "std     8660.398374   129747.661567      0.489129      0.790349      0.521970   \n",
       "min        1.000000    10000.000000      1.000000      0.000000      0.000000   \n",
       "25%     7500.750000    50000.000000      1.000000      1.000000      1.000000   \n",
       "50%    15000.500000   140000.000000      2.000000      2.000000      2.000000   \n",
       "75%    22500.250000   240000.000000      2.000000      2.000000      2.000000   \n",
       "max    30000.000000  1000000.000000      2.000000      6.000000      3.000000   \n",
       "\n",
       "                AGE         PAY_0         PAY_2         PAY_3         PAY_4  \\\n",
       "count  30000.000000  30000.000000  30000.000000  30000.000000  30000.000000   \n",
       "mean      35.485500     -0.016700     -0.133767     -0.166200     -0.220667   \n",
       "std        9.217904      1.123802      1.197186      1.196868      1.169139   \n",
       "min       21.000000     -2.000000     -2.000000     -2.000000     -2.000000   \n",
       "25%       28.000000     -1.000000     -1.000000     -1.000000     -1.000000   \n",
       "50%       34.000000      0.000000      0.000000      0.000000      0.000000   \n",
       "75%       41.000000      0.000000      0.000000      0.000000      0.000000   \n",
       "max       79.000000      8.000000      8.000000      8.000000      8.000000   \n",
       "\n",
       "       ...      BILL_AMT4      BILL_AMT5      BILL_AMT6       PAY_AMT1  \\\n",
       "count  ...   30000.000000   30000.000000   30000.000000   30000.000000   \n",
       "mean   ...   43262.948967   40311.400967   38871.760400    5663.580500   \n",
       "std    ...   64332.856134   60797.155770   59554.107537   16563.280354   \n",
       "min    ... -170000.000000  -81334.000000 -339603.000000       0.000000   \n",
       "25%    ...    2326.750000    1763.000000    1256.000000    1000.000000   \n",
       "50%    ...   19052.000000   18104.500000   17071.000000    2100.000000   \n",
       "75%    ...   54506.000000   50190.500000   49198.250000    5006.000000   \n",
       "max    ...  891586.000000  927171.000000  961664.000000  873552.000000   \n",
       "\n",
       "           PAY_AMT2      PAY_AMT3       PAY_AMT4       PAY_AMT5  \\\n",
       "count  3.000000e+04   30000.00000   30000.000000   30000.000000   \n",
       "mean   5.921163e+03    5225.68150    4826.076867    4799.387633   \n",
       "std    2.304087e+04   17606.96147   15666.159744   15278.305679   \n",
       "min    0.000000e+00       0.00000       0.000000       0.000000   \n",
       "25%    8.330000e+02     390.00000     296.000000     252.500000   \n",
       "50%    2.009000e+03    1800.00000    1500.000000    1500.000000   \n",
       "75%    5.000000e+03    4505.00000    4013.250000    4031.500000   \n",
       "max    1.684259e+06  896040.00000  621000.000000  426529.000000   \n",
       "\n",
       "            PAY_AMT6  default payment next month  \n",
       "count   30000.000000                30000.000000  \n",
       "mean     5215.502567                    0.221200  \n",
       "std     17777.465775                    0.415062  \n",
       "min         0.000000                    0.000000  \n",
       "25%       117.750000                    0.000000  \n",
       "50%      1500.000000                    0.000000  \n",
       "75%      4000.000000                    0.000000  \n",
       "max    528666.000000                    1.000000  \n",
       "\n",
       "[8 rows x 25 columns]"
      ]
     },
     "execution_count": 22,
     "metadata": {},
     "output_type": "execute_result"
    }
   ],
   "source": [
    "data.describe()"
   ]
  },
  {
   "cell_type": "code",
   "execution_count": 23,
   "metadata": {
    "ExecuteTime": {
     "end_time": "2019-06-26T13:31:43.504394Z",
     "start_time": "2019-06-26T13:31:43.487429Z"
    }
   },
   "outputs": [
    {
     "data": {
      "text/plain": [
       "ID                            int64\n",
       "LIMIT_BAL                     int64\n",
       "SEX                           int64\n",
       "EDUCATION                     int64\n",
       "MARRIAGE                      int64\n",
       "AGE                           int64\n",
       "PAY_0                         int64\n",
       "PAY_2                         int64\n",
       "PAY_3                         int64\n",
       "PAY_4                         int64\n",
       "PAY_5                         int64\n",
       "PAY_6                         int64\n",
       "BILL_AMT1                     int64\n",
       "BILL_AMT2                     int64\n",
       "BILL_AMT3                     int64\n",
       "BILL_AMT4                     int64\n",
       "BILL_AMT5                     int64\n",
       "BILL_AMT6                     int64\n",
       "PAY_AMT1                      int64\n",
       "PAY_AMT2                      int64\n",
       "PAY_AMT3                      int64\n",
       "PAY_AMT4                      int64\n",
       "PAY_AMT5                      int64\n",
       "PAY_AMT6                      int64\n",
       "default payment next month    int64\n",
       "dtype: object"
      ]
     },
     "execution_count": 23,
     "metadata": {},
     "output_type": "execute_result"
    }
   ],
   "source": [
    "# find the data types of information\n",
    "data.dtypes"
   ]
  },
  {
   "cell_type": "markdown",
   "metadata": {},
   "source": [
    "We will have to make changes to our data to adapt it to the right format:\n",
    "* Transform to characters *sex, marriage and education*"
   ]
  },
  {
   "cell_type": "markdown",
   "metadata": {},
   "source": [
    "Steps to follow to clean the data: \n",
    "* Data cleaning\n",
    "* Data transformation\n",
    "    - How to deal with missing values?\n",
    "* Data reduction\n",
    "* Data discretization\n",
    "* Text cleaning (if needed)"
   ]
  },
  {
   "cell_type": "markdown",
   "metadata": {},
   "source": [
    "### Data cleaning\n",
    "\n",
    "We will use pandas library to perform this task"
   ]
  },
  {
   "cell_type": "code",
   "execution_count": 24,
   "metadata": {
    "ExecuteTime": {
     "end_time": "2019-06-26T13:31:47.019090Z",
     "start_time": "2019-06-26T13:31:47.012601Z"
    }
   },
   "outputs": [],
   "source": [
    "import pandas as pd"
   ]
  },
  {
   "cell_type": "markdown",
   "metadata": {},
   "source": [
    "We can use functions like `pd.notnull(data)` or `pd.isnull(data)` to find missing values"
   ]
  },
  {
   "cell_type": "code",
   "execution_count": 25,
   "metadata": {
    "ExecuteTime": {
     "end_time": "2019-06-26T13:31:49.047741Z",
     "start_time": "2019-06-26T13:31:49.026281Z"
    }
   },
   "outputs": [
    {
     "data": {
      "text/plain": [
       "0"
      ]
     },
     "execution_count": 25,
     "metadata": {},
     "output_type": "execute_result"
    }
   ],
   "source": [
    "# podemos sumar los TRUE en python para detectar el número total de missing values\n",
    "pd.isnull(data).values.ravel().sum()"
   ]
  },
  {
   "cell_type": "markdown",
   "metadata": {},
   "source": [
    "There is no missing values. So we can skip to use functions like: \n",
    "* `data.dropna(axis=0, how = \"all\")`, to take out all NAs, or you can specify other options in its parameters"
   ]
  },
  {
   "cell_type": "markdown",
   "metadata": {},
   "source": [
    "### Data visualization\n",
    "\n",
    "Exploratory Data Analysis (EDA) is basic to be able to get insights from the data: \n",
    "* Visualization and Statistics about each variable - you've already done part of this with describe(). \n",
    "* Scatter plots comparing the relationships between any two variables\n",
    "* If needed, visualizing the relationship between many (more than 2) variables\n",
    "* Checking for collinearity or performing dimensionality reduction "
   ]
  },
  {
   "cell_type": "code",
   "execution_count": 26,
   "metadata": {
    "ExecuteTime": {
     "end_time": "2019-06-26T13:31:53.387757Z",
     "start_time": "2019-06-26T13:31:52.962984Z"
    }
   },
   "outputs": [],
   "source": [
    "# we are going to use matplotlib library\n",
    "import matplotlib.pyplot as plt"
   ]
  },
  {
   "cell_type": "code",
   "execution_count": 27,
   "metadata": {
    "ExecuteTime": {
     "end_time": "2019-06-26T13:31:54.298962Z",
     "start_time": "2019-06-26T13:31:54.288983Z"
    }
   },
   "outputs": [
    {
     "data": {
      "text/plain": [
       "array(['ID', 'LIMIT_BAL', 'SEX', 'EDUCATION', 'MARRIAGE', 'AGE', 'PAY_0',\n",
       "       'PAY_2', 'PAY_3', 'PAY_4', 'PAY_5', 'PAY_6', 'BILL_AMT1',\n",
       "       'BILL_AMT2', 'BILL_AMT3', 'BILL_AMT4', 'BILL_AMT5', 'BILL_AMT6',\n",
       "       'PAY_AMT1', 'PAY_AMT2', 'PAY_AMT3', 'PAY_AMT4', 'PAY_AMT5',\n",
       "       'PAY_AMT6', 'default payment next month'], dtype=object)"
      ]
     },
     "execution_count": 27,
     "metadata": {},
     "output_type": "execute_result"
    }
   ],
   "source": [
    "header = data.columns.values\n",
    "header"
   ]
  },
  {
   "cell_type": "code",
   "execution_count": 31,
   "metadata": {
    "ExecuteTime": {
     "end_time": "2019-06-26T13:32:19.067165Z",
     "start_time": "2019-06-26T13:32:18.306080Z"
    }
   },
   "outputs": [
    {
     "data": {
      "image/png": "[encoded data removed]",
      "text/plain": [
       "<Figure size 432x288 with 1 Axes>"
      ]
     },
     "metadata": {
      "needs_background": "light"
     },
     "output_type": "display_data"
    }
   ],
   "source": [
    "plt.hist(data[\"LIMIT_BAL\"], bins= 50)\n",
    "plt.show()"
   ]
  },
  {
   "cell_type": "markdown",
   "metadata": {},
   "source": [
    "Now is time to keep on plotting each variable and also to look for relation between variables. \n",
    "* Create distributions for each variable \n",
    "* find how to plot relations between variables"
   ]
  },
  {
   "cell_type": "code",
   "execution_count": 34,
   "metadata": {
    "ExecuteTime": {
     "end_time": "2019-06-26T13:37:16.301468Z",
     "start_time": "2019-06-26T13:37:15.539366Z"
    }
   },
   "outputs": [
    {
     "data": {
      "image/png": "[encoded data removed]",
      "text/plain": [
       "<Figure size 432x288 with 1 Axes>"
      ]
     },
     "metadata": {
      "needs_background": "light"
     },
     "output_type": "display_data"
    }
   ],
   "source": [
    "# time to do some line charts\n",
    "plt.plot(data[\"LIMIT_BAL\"])\n",
    "plt.show()"
   ]
  },
  {
   "cell_type": "code",
   "execution_count": 36,
   "metadata": {
    "ExecuteTime": {
     "end_time": "2019-06-26T13:39:10.417602Z",
     "start_time": "2019-06-26T13:39:09.125002Z"
    }
   },
   "outputs": [
    {
     "data": {
      "image/png": "[encoded data removed]",
      "text/plain": [
       "<Figure size 432x288 with 1 Axes>"
      ]
     },
     "metadata": {
      "needs_background": "light"
     },
     "output_type": "display_data"
    }
   ],
   "source": [
    "# time for some scatter plots\n",
    "x = data[\"PAY_0\"]\n",
    "y = data[\"PAY_2\"]\n",
    "plt.scatter(x, y)\n",
    "plt.show()"
   ]
  },
  {
   "cell_type": "code",
   "execution_count": 38,
   "metadata": {
    "ExecuteTime": {
     "end_time": "2019-06-26T13:42:07.073962Z",
     "start_time": "2019-06-26T13:42:06.726605Z"
    }
   },
   "outputs": [
    {
     "data": {
      "image/png": "[encoded data removed]",
      "text/plain": [
       "<Figure size 432x288 with 1 Axes>"
      ]
     },
     "metadata": {
      "needs_background": "light"
     },
     "output_type": "display_data"
    }
   ],
   "source": [
    "# boxplot to show information \n",
    "rel_var = data[\"BILL_AMT1\"]\n",
    "plt.boxplot(rel_var, \"gD\")\n",
    "plt.show()"
   ]
  },
  {
   "cell_type": "markdown",
   "metadata": {},
   "source": [
    "### Correlation\n"
   ]
  },
  {
   "cell_type": "code",
   "execution_count": 43,
   "metadata": {
    "ExecuteTime": {
     "end_time": "2019-06-26T14:17:07.816707Z",
     "start_time": "2019-06-26T14:17:07.192363Z"
    }
   },
   "outputs": [
    {
     "data": {
      "image/png": "[encoded data removed]",
      "text/plain": [
       "<Figure size 288x288 with 1 Axes>"
      ]
     },
     "metadata": {
      "needs_background": "light"
     },
     "output_type": "display_data"
    }
   ],
   "source": [
    "corrMat = data.corr()\n",
    "plt.matshow(corrMat)\n",
    "plt.show()"
   ]
  },
  {
   "cell_type": "code",
   "execution_count": 42,
   "metadata": {
    "ExecuteTime": {
     "end_time": "2019-06-26T14:10:43.216211Z",
     "start_time": "2019-06-26T14:10:42.990631Z"
    }
   },
   "outputs": [
    {
     "data": {
      "text/html": [
       "<div>\n",
       "<style scoped>\n",
       "    .dataframe tbody tr th:only-of-type {\n",
       "        vertical-align: middle;\n",
       "    }\n",
       "\n",
       "    .dataframe tbody tr th {\n",
       "        vertical-align: top;\n",
       "    }\n",
       "\n",
       "    .dataframe thead th {\n",
       "        text-align: right;\n",
       "    }\n",
       "</style>\n",
       "<table border=\"1\" class=\"dataframe\">\n",
       "  <thead>\n",
       "    <tr style=\"text-align: right;\">\n",
       "      <th></th>\n",
       "      <th>ID</th>\n",
       "      <th>LIMIT_BAL</th>\n",
       "      <th>SEX</th>\n",
       "      <th>EDUCATION</th>\n",
       "      <th>MARRIAGE</th>\n",
       "      <th>AGE</th>\n",
       "      <th>PAY_0</th>\n",
       "      <th>PAY_2</th>\n",
       "      <th>PAY_3</th>\n",
       "      <th>PAY_4</th>\n",
       "      <th>...</th>\n",
       "      <th>BILL_AMT4</th>\n",
       "      <th>BILL_AMT5</th>\n",
       "      <th>BILL_AMT6</th>\n",
       "      <th>PAY_AMT1</th>\n",
       "      <th>PAY_AMT2</th>\n",
       "      <th>PAY_AMT3</th>\n",
       "      <th>PAY_AMT4</th>\n",
       "      <th>PAY_AMT5</th>\n",
       "      <th>PAY_AMT6</th>\n",
       "      <th>default payment next month</th>\n",
       "    </tr>\n",
       "  </thead>\n",
       "  <tbody>\n",
       "    <tr>\n",
       "      <th>ID</th>\n",
       "      <td>7.500250e+07</td>\n",
       "      <td>2.941664e+07</td>\n",
       "      <td>78.356379</td>\n",
       "      <td>268.154338</td>\n",
       "      <td>-131.452515</td>\n",
       "      <td>1491.057019</td>\n",
       "      <td>-297.572636</td>\n",
       "      <td>-116.276959</td>\n",
       "      <td>-191.692156</td>\n",
       "      <td>-27.691323</td>\n",
       "      <td>...</td>\n",
       "      <td>2.248126e+07</td>\n",
       "      <td>8.795803e+06</td>\n",
       "      <td>8.628506e+06</td>\n",
       "      <td>1.397501e+06</td>\n",
       "      <td>1.677383e+06</td>\n",
       "      <td>5.969803e+06</td>\n",
       "      <td>1.057334e+06</td>\n",
       "      <td>8.629502e+04</td>\n",
       "      <td>4.618460e+05</td>\n",
       "      <td>-50.151705</td>\n",
       "    </tr>\n",
       "    <tr>\n",
       "      <th>LIMIT_BAL</th>\n",
       "      <td>2.941664e+07</td>\n",
       "      <td>1.683446e+10</td>\n",
       "      <td>1571.050630</td>\n",
       "      <td>-22474.028945</td>\n",
       "      <td>-7323.669658</td>\n",
       "      <td>173076.722569</td>\n",
       "      <td>-39545.930009</td>\n",
       "      <td>-46037.648360</td>\n",
       "      <td>-44432.253315</td>\n",
       "      <td>-40571.811859</td>\n",
       "      <td>...</td>\n",
       "      <td>2.453926e+09</td>\n",
       "      <td>2.331481e+09</td>\n",
       "      <td>2.243837e+09</td>\n",
       "      <td>4.195711e+08</td>\n",
       "      <td>5.333504e+08</td>\n",
       "      <td>4.801180e+08</td>\n",
       "      <td>4.131202e+08</td>\n",
       "      <td>4.305657e+08</td>\n",
       "      <td>5.065153e+08</td>\n",
       "      <td>-8267.551759</td>\n",
       "    </tr>\n",
       "    <tr>\n",
       "      <th>SEX</th>\n",
       "      <td>7.835638e+01</td>\n",
       "      <td>1.571051e+03</td>\n",
       "      <td>0.239247</td>\n",
       "      <td>0.005502</td>\n",
       "      <td>-0.008014</td>\n",
       "      <td>-0.409726</td>\n",
       "      <td>-0.031685</td>\n",
       "      <td>-0.041442</td>\n",
       "      <td>-0.038694</td>\n",
       "      <td>-0.034411</td>\n",
       "      <td>...</td>\n",
       "      <td>-6.884896e+02</td>\n",
       "      <td>-5.056943e+02</td>\n",
       "      <td>-4.874302e+02</td>\n",
       "      <td>-1.964266e+00</td>\n",
       "      <td>-1.567550e+01</td>\n",
       "      <td>-7.403481e+01</td>\n",
       "      <td>-1.708011e+01</td>\n",
       "      <td>-1.245881e+01</td>\n",
       "      <td>-2.405188e+01</td>\n",
       "      <td>-0.008113</td>\n",
       "    </tr>\n",
       "    <tr>\n",
       "      <th>EDUCATION</th>\n",
       "      <td>2.681543e+02</td>\n",
       "      <td>-2.247403e+04</td>\n",
       "      <td>0.005502</td>\n",
       "      <td>0.624651</td>\n",
       "      <td>-0.059184</td>\n",
       "      <td>1.275380</td>\n",
       "      <td>0.093584</td>\n",
       "      <td>0.115025</td>\n",
       "      <td>0.107861</td>\n",
       "      <td>0.100528</td>\n",
       "      <td>...</td>\n",
       "      <td>-2.294883e+01</td>\n",
       "      <td>-3.635777e+02</td>\n",
       "      <td>-4.282742e+02</td>\n",
       "      <td>-4.903302e+02</td>\n",
       "      <td>-5.470050e+02</td>\n",
       "      <td>-5.558343e+02</td>\n",
       "      <td>-4.732070e+02</td>\n",
       "      <td>-4.873359e+02</td>\n",
       "      <td>-5.226734e+02</td>\n",
       "      <td>0.009187</td>\n",
       "    </tr>\n",
       "    <tr>\n",
       "      <th>MARRIAGE</th>\n",
       "      <td>-1.314525e+02</td>\n",
       "      <td>-7.323670e+03</td>\n",
       "      <td>-0.008014</td>\n",
       "      <td>-0.059184</td>\n",
       "      <td>0.272452</td>\n",
       "      <td>-1.992764</td>\n",
       "      <td>0.011683</td>\n",
       "      <td>0.015122</td>\n",
       "      <td>0.020421</td>\n",
       "      <td>0.020213</td>\n",
       "      <td>...</td>\n",
       "      <td>-7.838816e+02</td>\n",
       "      <td>-8.058409e+02</td>\n",
       "      <td>-6.592233e+02</td>\n",
       "      <td>-5.169161e+01</td>\n",
       "      <td>-9.732797e+01</td>\n",
       "      <td>-3.254608e+01</td>\n",
       "      <td>-1.035182e+02</td>\n",
       "      <td>-9.607709e+00</td>\n",
       "      <td>-6.162327e+01</td>\n",
       "      <td>-0.005273</td>\n",
       "    </tr>\n",
       "    <tr>\n",
       "      <th>AGE</th>\n",
       "      <td>1.491057e+03</td>\n",
       "      <td>1.730767e+05</td>\n",
       "      <td>-0.409726</td>\n",
       "      <td>1.275380</td>\n",
       "      <td>-1.992764</td>\n",
       "      <td>84.969755</td>\n",
       "      <td>-0.408639</td>\n",
       "      <td>-0.553408</td>\n",
       "      <td>-0.585263</td>\n",
       "      <td>-0.535851</td>\n",
       "      <td>...</td>\n",
       "      <td>3.045311e+04</td>\n",
       "      <td>2.765407e+04</td>\n",
       "      <td>2.613765e+04</td>\n",
       "      <td>3.992042e+03</td>\n",
       "      <td>4.626862e+03</td>\n",
       "      <td>4.746824e+03</td>\n",
       "      <td>3.087324e+03</td>\n",
       "      <td>3.218052e+03</td>\n",
       "      <td>3.191904e+03</td>\n",
       "      <td>0.053143</td>\n",
       "    </tr>\n",
       "    <tr>\n",
       "      <th>PAY_0</th>\n",
       "      <td>-2.975726e+02</td>\n",
       "      <td>-3.954593e+04</td>\n",
       "      <td>-0.031685</td>\n",
       "      <td>0.093584</td>\n",
       "      <td>0.011683</td>\n",
       "      <td>-0.408639</td>\n",
       "      <td>1.262930</td>\n",
       "      <td>0.904330</td>\n",
       "      <td>0.772384</td>\n",
       "      <td>0.707972</td>\n",
       "      <td>...</td>\n",
       "      <td>1.295025e+04</td>\n",
       "      <td>1.234167e+04</td>\n",
       "      <td>1.184476e+04</td>\n",
       "      <td>-1.475495e+03</td>\n",
       "      <td>-1.815138e+03</td>\n",
       "      <td>-1.396168e+03</td>\n",
       "      <td>-1.126848e+03</td>\n",
       "      <td>-9.991077e+02</td>\n",
       "      <td>-1.172194e+03</td>\n",
       "      <td>0.151499</td>\n",
       "    </tr>\n",
       "    <tr>\n",
       "      <th>PAY_2</th>\n",
       "      <td>-1.162770e+02</td>\n",
       "      <td>-4.603765e+04</td>\n",
       "      <td>-0.041442</td>\n",
       "      <td>0.115025</td>\n",
       "      <td>0.015122</td>\n",
       "      <td>-0.553408</td>\n",
       "      <td>0.904330</td>\n",
       "      <td>1.433254</td>\n",
       "      <td>1.098371</td>\n",
       "      <td>0.926680</td>\n",
       "      <td>...</td>\n",
       "      <td>1.711630e+04</td>\n",
       "      <td>1.611095e+04</td>\n",
       "      <td>1.564288e+04</td>\n",
       "      <td>-1.600241e+03</td>\n",
       "      <td>-1.627192e+03</td>\n",
       "      <td>-1.178331e+03</td>\n",
       "      <td>-8.788439e+02</td>\n",
       "      <td>-6.784685e+02</td>\n",
       "      <td>-7.768350e+02</td>\n",
       "      <td>0.130960</td>\n",
       "    </tr>\n",
       "    <tr>\n",
       "      <th>PAY_3</th>\n",
       "      <td>-1.916922e+02</td>\n",
       "      <td>-4.443225e+04</td>\n",
       "      <td>-0.038694</td>\n",
       "      <td>0.107861</td>\n",
       "      <td>0.020421</td>\n",
       "      <td>-0.585263</td>\n",
       "      <td>0.772384</td>\n",
       "      <td>1.098371</td>\n",
       "      <td>1.432492</td>\n",
       "      <td>1.087761</td>\n",
       "      <td>...</td>\n",
       "      <td>1.749410e+04</td>\n",
       "      <td>1.638295e+04</td>\n",
       "      <td>1.584709e+04</td>\n",
       "      <td>2.566847e+01</td>\n",
       "      <td>-1.841953e+03</td>\n",
       "      <td>-1.123429e+03</td>\n",
       "      <td>-8.637622e+02</td>\n",
       "      <td>-6.557960e+02</td>\n",
       "      <td>-7.630260e+02</td>\n",
       "      <td>0.116867</td>\n",
       "    </tr>\n",
       "    <tr>\n",
       "      <th>PAY_4</th>\n",
       "      <td>-2.769132e+01</td>\n",
       "      <td>-4.057181e+04</td>\n",
       "      <td>-0.034411</td>\n",
       "      <td>0.100528</td>\n",
       "      <td>0.020213</td>\n",
       "      <td>-0.535851</td>\n",
       "      <td>0.707972</td>\n",
       "      <td>0.926680</td>\n",
       "      <td>1.087761</td>\n",
       "      <td>1.366885</td>\n",
       "      <td>...</td>\n",
       "      <td>1.849642e+04</td>\n",
       "      <td>1.726555e+04</td>\n",
       "      <td>1.665159e+04</td>\n",
       "      <td>-1.812956e+02</td>\n",
       "      <td>-5.235817e+01</td>\n",
       "      <td>-1.425205e+03</td>\n",
       "      <td>-7.960357e+02</td>\n",
       "      <td>-5.999916e+02</td>\n",
       "      <td>-5.521373e+02</td>\n",
       "      <td>0.105115</td>\n",
       "    </tr>\n",
       "    <tr>\n",
       "      <th>PAY_5</th>\n",
       "      <td>-2.178600e+02</td>\n",
       "      <td>-3.667056e+04</td>\n",
       "      <td>-0.030521</td>\n",
       "      <td>0.087340</td>\n",
       "      <td>0.021074</td>\n",
       "      <td>-0.562245</td>\n",
       "      <td>0.648743</td>\n",
       "      <td>0.844886</td>\n",
       "      <td>0.931455</td>\n",
       "      <td>1.086161</td>\n",
       "      <td>...</td>\n",
       "      <td>1.982293e+04</td>\n",
       "      <td>1.858659e+04</td>\n",
       "      <td>1.771569e+04</td>\n",
       "      <td>-1.142817e+02</td>\n",
       "      <td>-8.332449e+01</td>\n",
       "      <td>1.808121e+02</td>\n",
       "      <td>-1.034962e+03</td>\n",
       "      <td>-5.771610e+02</td>\n",
       "      <td>-4.638926e+02</td>\n",
       "      <td>0.096020</td>\n",
       "    </tr>\n",
       "    <tr>\n",
       "      <th>PAY_6</th>\n",
       "      <td>-2.018774e+02</td>\n",
       "      <td>-3.509308e+04</td>\n",
       "      <td>-0.024754</td>\n",
       "      <td>0.074816</td>\n",
       "      <td>0.020616</td>\n",
       "      <td>-0.517022</td>\n",
       "      <td>0.613292</td>\n",
       "      <td>0.792320</td>\n",
       "      <td>0.870815</td>\n",
       "      <td>0.963263</td>\n",
       "      <td>...</td>\n",
       "      <td>1.970555e+04</td>\n",
       "      <td>2.033812e+04</td>\n",
       "      <td>1.952488e+04</td>\n",
       "      <td>-2.850067e+01</td>\n",
       "      <td>-1.383995e+02</td>\n",
       "      <td>1.181210e+02</td>\n",
       "      <td>3.426237e+02</td>\n",
       "      <td>-8.158327e+02</td>\n",
       "      <td>-5.172163e+02</td>\n",
       "      <td>0.089194</td>\n",
       "    </tr>\n",
       "    <tr>\n",
       "      <th>BILL_AMT1</th>\n",
       "      <td>1.236447e+07</td>\n",
       "      <td>2.727020e+09</td>\n",
       "      <td>-1211.694332</td>\n",
       "      <td>1372.377644</td>\n",
       "      <td>-902.154685</td>\n",
       "      <td>38172.933546</td>\n",
       "      <td>15480.304170</td>\n",
       "      <td>20706.614217</td>\n",
       "      <td>18373.210469</td>\n",
       "      <td>17460.198259</td>\n",
       "      <td>...</td>\n",
       "      <td>4.075286e+09</td>\n",
       "      <td>3.714795e+09</td>\n",
       "      <td>3.519876e+09</td>\n",
       "      <td>1.710894e+08</td>\n",
       "      <td>1.685692e+08</td>\n",
       "      <td>2.034048e+08</td>\n",
       "      <td>1.826164e+08</td>\n",
       "      <td>1.879091e+08</td>\n",
       "      <td>2.347681e+08</td>\n",
       "      <td>-600.394108</td>\n",
       "    </tr>\n",
       "    <tr>\n",
       "      <th>BILL_AMT2</th>\n",
       "      <td>1.108392e+07</td>\n",
       "      <td>2.570130e+09</td>\n",
       "      <td>-1085.595467</td>\n",
       "      <td>1054.657595</td>\n",
       "      <td>-802.517866</td>\n",
       "      <td>35613.657962</td>\n",
       "      <td>15185.916919</td>\n",
       "      <td>20045.829482</td>\n",
       "      <td>20214.071495</td>\n",
       "      <td>18790.627741</td>\n",
       "      <td>...</td>\n",
       "      <td>4.086508e+09</td>\n",
       "      <td>3.720401e+09</td>\n",
       "      <td>3.524868e+09</td>\n",
       "      <td>3.305146e+08</td>\n",
       "      <td>1.653859e+08</td>\n",
       "      <td>1.888731e+08</td>\n",
       "      <td>1.643518e+08</td>\n",
       "      <td>1.717652e+08</td>\n",
       "      <td>2.204845e+08</td>\n",
       "      <td>-419.289137</td>\n",
       "    </tr>\n",
       "    <tr>\n",
       "      <th>BILL_AMT3</th>\n",
       "      <td>1.462688e+07</td>\n",
       "      <td>2.548533e+09</td>\n",
       "      <td>-833.207432</td>\n",
       "      <td>712.664124</td>\n",
       "      <td>-901.679085</td>\n",
       "      <td>34334.251320</td>\n",
       "      <td>14011.556537</td>\n",
       "      <td>18609.510991</td>\n",
       "      <td>18882.491544</td>\n",
       "      <td>19862.999426</td>\n",
       "      <td>...</td>\n",
       "      <td>4.122238e+09</td>\n",
       "      <td>3.726780e+09</td>\n",
       "      <td>3.524247e+09</td>\n",
       "      <td>2.806565e+08</td>\n",
       "      <td>5.064226e+08</td>\n",
       "      <td>1.587478e+08</td>\n",
       "      <td>1.558003e+08</td>\n",
       "      <td>1.904126e+08</td>\n",
       "      <td>2.247817e+08</td>\n",
       "      <td>-405.153680</td>\n",
       "    </tr>\n",
       "    <tr>\n",
       "      <th>BILL_AMT4</th>\n",
       "      <td>2.248126e+07</td>\n",
       "      <td>2.453926e+09</td>\n",
       "      <td>-688.489572</td>\n",
       "      <td>-22.948827</td>\n",
       "      <td>-783.881599</td>\n",
       "      <td>30453.108180</td>\n",
       "      <td>12950.248389</td>\n",
       "      <td>17116.298983</td>\n",
       "      <td>17494.100555</td>\n",
       "      <td>18496.423186</td>\n",
       "      <td>...</td>\n",
       "      <td>4.138716e+09</td>\n",
       "      <td>3.677105e+09</td>\n",
       "      <td>3.451762e+09</td>\n",
       "      <td>2.482888e+08</td>\n",
       "      <td>3.076686e+08</td>\n",
       "      <td>3.398374e+08</td>\n",
       "      <td>1.312133e+08</td>\n",
       "      <td>1.576892e+08</td>\n",
       "      <td>2.031590e+08</td>\n",
       "      <td>-271.199885</td>\n",
       "    </tr>\n",
       "    <tr>\n",
       "      <th>BILL_AMT5</th>\n",
       "      <td>8.795803e+06</td>\n",
       "      <td>2.331481e+09</td>\n",
       "      <td>-505.694333</td>\n",
       "      <td>-363.577664</td>\n",
       "      <td>-805.840875</td>\n",
       "      <td>27654.067800</td>\n",
       "      <td>12341.668685</td>\n",
       "      <td>16110.952468</td>\n",
       "      <td>16382.947539</td>\n",
       "      <td>17265.551898</td>\n",
       "      <td>...</td>\n",
       "      <td>3.677105e+09</td>\n",
       "      <td>3.696294e+09</td>\n",
       "      <td>3.425914e+09</td>\n",
       "      <td>2.185501e+08</td>\n",
       "      <td>2.538936e+08</td>\n",
       "      <td>2.700805e+08</td>\n",
       "      <td>2.791830e+08</td>\n",
       "      <td>1.315051e+08</td>\n",
       "      <td>1.774537e+08</td>\n",
       "      <td>-170.597447</td>\n",
       "    </tr>\n",
       "    <tr>\n",
       "      <th>BILL_AMT6</th>\n",
       "      <td>8.628506e+06</td>\n",
       "      <td>2.243837e+09</td>\n",
       "      <td>-487.430160</td>\n",
       "      <td>-428.274232</td>\n",
       "      <td>-659.223347</td>\n",
       "      <td>26137.648547</td>\n",
       "      <td>11844.759724</td>\n",
       "      <td>15642.875812</td>\n",
       "      <td>15847.089648</td>\n",
       "      <td>16651.586314</td>\n",
       "      <td>...</td>\n",
       "      <td>3.451762e+09</td>\n",
       "      <td>3.425914e+09</td>\n",
       "      <td>3.546692e+09</td>\n",
       "      <td>1.972478e+08</td>\n",
       "      <td>2.369244e+08</td>\n",
       "      <td>2.451233e+08</td>\n",
       "      <td>2.334670e+08</td>\n",
       "      <td>2.799982e+08</td>\n",
       "      <td>1.222761e+08</td>\n",
       "      <td>-132.796294</td>\n",
       "    </tr>\n",
       "    <tr>\n",
       "      <th>PAY_AMT1</th>\n",
       "      <td>1.397501e+06</td>\n",
       "      <td>4.195711e+08</td>\n",
       "      <td>-1.964266</td>\n",
       "      <td>-490.330155</td>\n",
       "      <td>-51.691615</td>\n",
       "      <td>3992.041735</td>\n",
       "      <td>-1475.495089</td>\n",
       "      <td>-1600.240756</td>\n",
       "      <td>25.668468</td>\n",
       "      <td>-181.295613</td>\n",
       "      <td>...</td>\n",
       "      <td>2.482888e+08</td>\n",
       "      <td>2.185501e+08</td>\n",
       "      <td>1.972478e+08</td>\n",
       "      <td>2.743423e+08</td>\n",
       "      <td>1.089849e+08</td>\n",
       "      <td>7.354626e+07</td>\n",
       "      <td>5.178189e+07</td>\n",
       "      <td>3.756893e+07</td>\n",
       "      <td>5.469033e+07</td>\n",
       "      <td>-501.374552</td>\n",
       "    </tr>\n",
       "    <tr>\n",
       "      <th>PAY_AMT2</th>\n",
       "      <td>1.677383e+06</td>\n",
       "      <td>5.333504e+08</td>\n",
       "      <td>-15.675500</td>\n",
       "      <td>-547.005021</td>\n",
       "      <td>-97.327974</td>\n",
       "      <td>4626.861549</td>\n",
       "      <td>-1815.138407</td>\n",
       "      <td>-1627.192336</td>\n",
       "      <td>-1841.952825</td>\n",
       "      <td>-52.358166</td>\n",
       "      <td>...</td>\n",
       "      <td>3.076686e+08</td>\n",
       "      <td>2.538936e+08</td>\n",
       "      <td>2.369244e+08</td>\n",
       "      <td>1.089849e+08</td>\n",
       "      <td>5.308817e+08</td>\n",
       "      <td>9.929841e+07</td>\n",
       "      <td>6.501168e+07</td>\n",
       "      <td>6.368414e+07</td>\n",
       "      <td>6.456816e+07</td>\n",
       "      <td>-560.210740</td>\n",
       "    </tr>\n",
       "    <tr>\n",
       "      <th>PAY_AMT3</th>\n",
       "      <td>5.969803e+06</td>\n",
       "      <td>4.801180e+08</td>\n",
       "      <td>-74.034812</td>\n",
       "      <td>-555.834305</td>\n",
       "      <td>-32.546082</td>\n",
       "      <td>4746.824393</td>\n",
       "      <td>-1396.168258</td>\n",
       "      <td>-1178.331282</td>\n",
       "      <td>-1123.428782</td>\n",
       "      <td>-1425.205189</td>\n",
       "      <td>...</td>\n",
       "      <td>3.398374e+08</td>\n",
       "      <td>2.700805e+08</td>\n",
       "      <td>2.451233e+08</td>\n",
       "      <td>7.354626e+07</td>\n",
       "      <td>9.929841e+07</td>\n",
       "      <td>3.100051e+08</td>\n",
       "      <td>5.966970e+07</td>\n",
       "      <td>4.282921e+07</td>\n",
       "      <td>5.093879e+07</td>\n",
       "      <td>-411.076284</td>\n",
       "    </tr>\n",
       "    <tr>\n",
       "      <th>PAY_AMT4</th>\n",
       "      <td>1.057334e+06</td>\n",
       "      <td>4.131202e+08</td>\n",
       "      <td>-17.080110</td>\n",
       "      <td>-473.206951</td>\n",
       "      <td>-103.518204</td>\n",
       "      <td>3087.324192</td>\n",
       "      <td>-1126.847945</td>\n",
       "      <td>-878.843879</td>\n",
       "      <td>-863.762183</td>\n",
       "      <td>-796.035739</td>\n",
       "      <td>...</td>\n",
       "      <td>1.312133e+08</td>\n",
       "      <td>2.791830e+08</td>\n",
       "      <td>2.334670e+08</td>\n",
       "      <td>5.178189e+07</td>\n",
       "      <td>6.501168e+07</td>\n",
       "      <td>5.966970e+07</td>\n",
       "      <td>2.454286e+08</td>\n",
       "      <td>3.634098e+07</td>\n",
       "      <td>4.395747e+07</td>\n",
       "      <td>-369.515887</td>\n",
       "    </tr>\n",
       "    <tr>\n",
       "      <th>PAY_AMT5</th>\n",
       "      <td>8.629502e+04</td>\n",
       "      <td>4.305657e+08</td>\n",
       "      <td>-12.458809</td>\n",
       "      <td>-487.335947</td>\n",
       "      <td>-9.607709</td>\n",
       "      <td>3218.052172</td>\n",
       "      <td>-999.107730</td>\n",
       "      <td>-678.468530</td>\n",
       "      <td>-655.796002</td>\n",
       "      <td>-599.991629</td>\n",
       "      <td>...</td>\n",
       "      <td>1.576892e+08</td>\n",
       "      <td>1.315051e+08</td>\n",
       "      <td>2.799982e+08</td>\n",
       "      <td>3.756893e+07</td>\n",
       "      <td>6.368414e+07</td>\n",
       "      <td>4.282921e+07</td>\n",
       "      <td>3.634098e+07</td>\n",
       "      <td>2.334266e+08</td>\n",
       "      <td>4.207110e+07</td>\n",
       "      <td>-349.562530</td>\n",
       "    </tr>\n",
       "    <tr>\n",
       "      <th>PAY_AMT6</th>\n",
       "      <td>4.618460e+05</td>\n",
       "      <td>5.065153e+08</td>\n",
       "      <td>-24.051885</td>\n",
       "      <td>-522.673379</td>\n",
       "      <td>-61.623271</td>\n",
       "      <td>3191.903901</td>\n",
       "      <td>-1172.193614</td>\n",
       "      <td>-776.835035</td>\n",
       "      <td>-763.026041</td>\n",
       "      <td>-552.137338</td>\n",
       "      <td>...</td>\n",
       "      <td>2.031590e+08</td>\n",
       "      <td>1.774537e+08</td>\n",
       "      <td>1.222761e+08</td>\n",
       "      <td>5.469033e+07</td>\n",
       "      <td>6.456816e+07</td>\n",
       "      <td>5.093879e+07</td>\n",
       "      <td>4.395747e+07</td>\n",
       "      <td>4.207110e+07</td>\n",
       "      <td>3.160383e+08</td>\n",
       "      <td>-392.426415</td>\n",
       "    </tr>\n",
       "    <tr>\n",
       "      <th>default payment next month</th>\n",
       "      <td>-5.015171e+01</td>\n",
       "      <td>-8.267552e+03</td>\n",
       "      <td>-0.008113</td>\n",
       "      <td>0.009187</td>\n",
       "      <td>-0.005273</td>\n",
       "      <td>0.053143</td>\n",
       "      <td>0.151499</td>\n",
       "      <td>0.130960</td>\n",
       "      <td>0.116867</td>\n",
       "      <td>0.105115</td>\n",
       "      <td>...</td>\n",
       "      <td>-2.711999e+02</td>\n",
       "      <td>-1.705974e+02</td>\n",
       "      <td>-1.327963e+02</td>\n",
       "      <td>-5.013746e+02</td>\n",
       "      <td>-5.602107e+02</td>\n",
       "      <td>-4.110763e+02</td>\n",
       "      <td>-3.695159e+02</td>\n",
       "      <td>-3.495625e+02</td>\n",
       "      <td>-3.924264e+02</td>\n",
       "      <td>0.172276</td>\n",
       "    </tr>\n",
       "  </tbody>\n",
       "</table>\n",
       "<p>25 rows × 25 columns</p>\n",
       "</div>"
      ],
      "text/plain": [
       "                                      ID     LIMIT_BAL          SEX  \\\n",
       "ID                          7.500250e+07  2.941664e+07    78.356379   \n",
       "LIMIT_BAL                   2.941664e+07  1.683446e+10  1571.050630   \n",
       "SEX                         7.835638e+01  1.571051e+03     0.239247   \n",
       "EDUCATION                   2.681543e+02 -2.247403e+04     0.005502   \n",
       "MARRIAGE                   -1.314525e+02 -7.323670e+03    -0.008014   \n",
       "AGE                         1.491057e+03  1.730767e+05    -0.409726   \n",
       "PAY_0                      -2.975726e+02 -3.954593e+04    -0.031685   \n",
       "PAY_2                      -1.162770e+02 -4.603765e+04    -0.041442   \n",
       "PAY_3                      -1.916922e+02 -4.443225e+04    -0.038694   \n",
       "PAY_4                      -2.769132e+01 -4.057181e+04    -0.034411   \n",
       "PAY_5                      -2.178600e+02 -3.667056e+04    -0.030521   \n",
       "PAY_6                      -2.018774e+02 -3.509308e+04    -0.024754   \n",
       "BILL_AMT1                   1.236447e+07  2.727020e+09 -1211.694332   \n",
       "BILL_AMT2                   1.108392e+07  2.570130e+09 -1085.595467   \n",
       "BILL_AMT3                   1.462688e+07  2.548533e+09  -833.207432   \n",
       "BILL_AMT4                   2.248126e+07  2.453926e+09  -688.489572   \n",
       "BILL_AMT5                   8.795803e+06  2.331481e+09  -505.694333   \n",
       "BILL_AMT6                   8.628506e+06  2.243837e+09  -487.430160   \n",
       "PAY_AMT1                    1.397501e+06  4.195711e+08    -1.964266   \n",
       "PAY_AMT2                    1.677383e+06  5.333504e+08   -15.675500   \n",
       "PAY_AMT3                    5.969803e+06  4.801180e+08   -74.034812   \n",
       "PAY_AMT4                    1.057334e+06  4.131202e+08   -17.080110   \n",
       "PAY_AMT5                    8.629502e+04  4.305657e+08   -12.458809   \n",
       "PAY_AMT6                    4.618460e+05  5.065153e+08   -24.051885   \n",
       "default payment next month -5.015171e+01 -8.267552e+03    -0.008113   \n",
       "\n",
       "                               EDUCATION     MARRIAGE            AGE  \\\n",
       "ID                            268.154338  -131.452515    1491.057019   \n",
       "LIMIT_BAL                  -22474.028945 -7323.669658  173076.722569   \n",
       "SEX                             0.005502    -0.008014      -0.409726   \n",
       "EDUCATION                       0.624651    -0.059184       1.275380   \n",
       "MARRIAGE                       -0.059184     0.272452      -1.992764   \n",
       "AGE                             1.275380    -1.992764      84.969755   \n",
       "PAY_0                           0.093584     0.011683      -0.408639   \n",
       "PAY_2                           0.115025     0.015122      -0.553408   \n",
       "PAY_3                           0.107861     0.020421      -0.585263   \n",
       "PAY_4                           0.100528     0.020213      -0.535851   \n",
       "PAY_5                           0.087340     0.021074      -0.562245   \n",
       "PAY_6                           0.074816     0.020616      -0.517022   \n",
       "BILL_AMT1                    1372.377644  -902.154685   38172.933546   \n",
       "BILL_AMT2                    1054.657595  -802.517866   35613.657962   \n",
       "BILL_AMT3                     712.664124  -901.679085   34334.251320   \n",
       "BILL_AMT4                     -22.948827  -783.881599   30453.108180   \n",
       "BILL_AMT5                    -363.577664  -805.840875   27654.067800   \n",
       "BILL_AMT6                    -428.274232  -659.223347   26137.648547   \n",
       "PAY_AMT1                     -490.330155   -51.691615    3992.041735   \n",
       "PAY_AMT2                     -547.005021   -97.327974    4626.861549   \n",
       "PAY_AMT3                     -555.834305   -32.546082    4746.824393   \n",
       "PAY_AMT4                     -473.206951  -103.518204    3087.324192   \n",
       "PAY_AMT5                     -487.335947    -9.607709    3218.052172   \n",
       "PAY_AMT6                     -522.673379   -61.623271    3191.903901   \n",
       "default payment next month      0.009187    -0.005273       0.053143   \n",
       "\n",
       "                                   PAY_0         PAY_2         PAY_3  \\\n",
       "ID                           -297.572636   -116.276959   -191.692156   \n",
       "LIMIT_BAL                  -39545.930009 -46037.648360 -44432.253315   \n",
       "SEX                            -0.031685     -0.041442     -0.038694   \n",
       "EDUCATION                       0.093584      0.115025      0.107861   \n",
       "MARRIAGE                        0.011683      0.015122      0.020421   \n",
       "AGE                            -0.408639     -0.553408     -0.585263   \n",
       "PAY_0                           1.262930      0.904330      0.772384   \n",
       "PAY_2                           0.904330      1.433254      1.098371   \n",
       "PAY_3                           0.772384      1.098371      1.432492   \n",
       "PAY_4                           0.707972      0.926680      1.087761   \n",
       "PAY_5                           0.648743      0.844886      0.931455   \n",
       "PAY_6                           0.613292      0.792320      0.870815   \n",
       "BILL_AMT1                   15480.304170  20706.614217  18373.210469   \n",
       "BILL_AMT2                   15185.916919  20045.829482  20214.071495   \n",
       "BILL_AMT3                   14011.556537  18609.510991  18882.491544   \n",
       "BILL_AMT4                   12950.248389  17116.298983  17494.100555   \n",
       "BILL_AMT5                   12341.668685  16110.952468  16382.947539   \n",
       "BILL_AMT6                   11844.759724  15642.875812  15847.089648   \n",
       "PAY_AMT1                    -1475.495089  -1600.240756     25.668468   \n",
       "PAY_AMT2                    -1815.138407  -1627.192336  -1841.952825   \n",
       "PAY_AMT3                    -1396.168258  -1178.331282  -1123.428782   \n",
       "PAY_AMT4                    -1126.847945   -878.843879   -863.762183   \n",
       "PAY_AMT5                     -999.107730   -678.468530   -655.796002   \n",
       "PAY_AMT6                    -1172.193614   -776.835035   -763.026041   \n",
       "default payment next month      0.151499      0.130960      0.116867   \n",
       "\n",
       "                                   PAY_4  ...     BILL_AMT4     BILL_AMT5  \\\n",
       "ID                            -27.691323  ...  2.248126e+07  8.795803e+06   \n",
       "LIMIT_BAL                  -40571.811859  ...  2.453926e+09  2.331481e+09   \n",
       "SEX                            -0.034411  ... -6.884896e+02 -5.056943e+02   \n",
       "EDUCATION                       0.100528  ... -2.294883e+01 -3.635777e+02   \n",
       "MARRIAGE                        0.020213  ... -7.838816e+02 -8.058409e+02   \n",
       "AGE                            -0.535851  ...  3.045311e+04  2.765407e+04   \n",
       "PAY_0                           0.707972  ...  1.295025e+04  1.234167e+04   \n",
       "PAY_2                           0.926680  ...  1.711630e+04  1.611095e+04   \n",
       "PAY_3                           1.087761  ...  1.749410e+04  1.638295e+04   \n",
       "PAY_4                           1.366885  ...  1.849642e+04  1.726555e+04   \n",
       "PAY_5                           1.086161  ...  1.982293e+04  1.858659e+04   \n",
       "PAY_6                           0.963263  ...  1.970555e+04  2.033812e+04   \n",
       "BILL_AMT1                   17460.198259  ...  4.075286e+09  3.714795e+09   \n",
       "BILL_AMT2                   18790.627741  ...  4.086508e+09  3.720401e+09   \n",
       "BILL_AMT3                   19862.999426  ...  4.122238e+09  3.726780e+09   \n",
       "BILL_AMT4                   18496.423186  ...  4.138716e+09  3.677105e+09   \n",
       "BILL_AMT5                   17265.551898  ...  3.677105e+09  3.696294e+09   \n",
       "BILL_AMT6                   16651.586314  ...  3.451762e+09  3.425914e+09   \n",
       "PAY_AMT1                     -181.295613  ...  2.482888e+08  2.185501e+08   \n",
       "PAY_AMT2                      -52.358166  ...  3.076686e+08  2.538936e+08   \n",
       "PAY_AMT3                    -1425.205189  ...  3.398374e+08  2.700805e+08   \n",
       "PAY_AMT4                     -796.035739  ...  1.312133e+08  2.791830e+08   \n",
       "PAY_AMT5                     -599.991629  ...  1.576892e+08  1.315051e+08   \n",
       "PAY_AMT6                     -552.137338  ...  2.031590e+08  1.774537e+08   \n",
       "default payment next month      0.105115  ... -2.711999e+02 -1.705974e+02   \n",
       "\n",
       "                               BILL_AMT6      PAY_AMT1      PAY_AMT2  \\\n",
       "ID                          8.628506e+06  1.397501e+06  1.677383e+06   \n",
       "LIMIT_BAL                   2.243837e+09  4.195711e+08  5.333504e+08   \n",
       "SEX                        -4.874302e+02 -1.964266e+00 -1.567550e+01   \n",
       "EDUCATION                  -4.282742e+02 -4.903302e+02 -5.470050e+02   \n",
       "MARRIAGE                   -6.592233e+02 -5.169161e+01 -9.732797e+01   \n",
       "AGE                         2.613765e+04  3.992042e+03  4.626862e+03   \n",
       "PAY_0                       1.184476e+04 -1.475495e+03 -1.815138e+03   \n",
       "PAY_2                       1.564288e+04 -1.600241e+03 -1.627192e+03   \n",
       "PAY_3                       1.584709e+04  2.566847e+01 -1.841953e+03   \n",
       "PAY_4                       1.665159e+04 -1.812956e+02 -5.235817e+01   \n",
       "PAY_5                       1.771569e+04 -1.142817e+02 -8.332449e+01   \n",
       "PAY_6                       1.952488e+04 -2.850067e+01 -1.383995e+02   \n",
       "BILL_AMT1                   3.519876e+09  1.710894e+08  1.685692e+08   \n",
       "BILL_AMT2                   3.524868e+09  3.305146e+08  1.653859e+08   \n",
       "BILL_AMT3                   3.524247e+09  2.806565e+08  5.064226e+08   \n",
       "BILL_AMT4                   3.451762e+09  2.482888e+08  3.076686e+08   \n",
       "BILL_AMT5                   3.425914e+09  2.185501e+08  2.538936e+08   \n",
       "BILL_AMT6                   3.546692e+09  1.972478e+08  2.369244e+08   \n",
       "PAY_AMT1                    1.972478e+08  2.743423e+08  1.089849e+08   \n",
       "PAY_AMT2                    2.369244e+08  1.089849e+08  5.308817e+08   \n",
       "PAY_AMT3                    2.451233e+08  7.354626e+07  9.929841e+07   \n",
       "PAY_AMT4                    2.334670e+08  5.178189e+07  6.501168e+07   \n",
       "PAY_AMT5                    2.799982e+08  3.756893e+07  6.368414e+07   \n",
       "PAY_AMT6                    1.222761e+08  5.469033e+07  6.456816e+07   \n",
       "default payment next month -1.327963e+02 -5.013746e+02 -5.602107e+02   \n",
       "\n",
       "                                PAY_AMT3      PAY_AMT4      PAY_AMT5  \\\n",
       "ID                          5.969803e+06  1.057334e+06  8.629502e+04   \n",
       "LIMIT_BAL                   4.801180e+08  4.131202e+08  4.305657e+08   \n",
       "SEX                        -7.403481e+01 -1.708011e+01 -1.245881e+01   \n",
       "EDUCATION                  -5.558343e+02 -4.732070e+02 -4.873359e+02   \n",
       "MARRIAGE                   -3.254608e+01 -1.035182e+02 -9.607709e+00   \n",
       "AGE                         4.746824e+03  3.087324e+03  3.218052e+03   \n",
       "PAY_0                      -1.396168e+03 -1.126848e+03 -9.991077e+02   \n",
       "PAY_2                      -1.178331e+03 -8.788439e+02 -6.784685e+02   \n",
       "PAY_3                      -1.123429e+03 -8.637622e+02 -6.557960e+02   \n",
       "PAY_4                      -1.425205e+03 -7.960357e+02 -5.999916e+02   \n",
       "PAY_5                       1.808121e+02 -1.034962e+03 -5.771610e+02   \n",
       "PAY_6                       1.181210e+02  3.426237e+02 -8.158327e+02   \n",
       "BILL_AMT1                   2.034048e+08  1.826164e+08  1.879091e+08   \n",
       "BILL_AMT2                   1.888731e+08  1.643518e+08  1.717652e+08   \n",
       "BILL_AMT3                   1.587478e+08  1.558003e+08  1.904126e+08   \n",
       "BILL_AMT4                   3.398374e+08  1.312133e+08  1.576892e+08   \n",
       "BILL_AMT5                   2.700805e+08  2.791830e+08  1.315051e+08   \n",
       "BILL_AMT6                   2.451233e+08  2.334670e+08  2.799982e+08   \n",
       "PAY_AMT1                    7.354626e+07  5.178189e+07  3.756893e+07   \n",
       "PAY_AMT2                    9.929841e+07  6.501168e+07  6.368414e+07   \n",
       "PAY_AMT3                    3.100051e+08  5.966970e+07  4.282921e+07   \n",
       "PAY_AMT4                    5.966970e+07  2.454286e+08  3.634098e+07   \n",
       "PAY_AMT5                    4.282921e+07  3.634098e+07  2.334266e+08   \n",
       "PAY_AMT6                    5.093879e+07  4.395747e+07  4.207110e+07   \n",
       "default payment next month -4.110763e+02 -3.695159e+02 -3.495625e+02   \n",
       "\n",
       "                                PAY_AMT6  default payment next month  \n",
       "ID                          4.618460e+05                  -50.151705  \n",
       "LIMIT_BAL                   5.065153e+08                -8267.551759  \n",
       "SEX                        -2.405188e+01                   -0.008113  \n",
       "EDUCATION                  -5.226734e+02                    0.009187  \n",
       "MARRIAGE                   -6.162327e+01                   -0.005273  \n",
       "AGE                         3.191904e+03                    0.053143  \n",
       "PAY_0                      -1.172194e+03                    0.151499  \n",
       "PAY_2                      -7.768350e+02                    0.130960  \n",
       "PAY_3                      -7.630260e+02                    0.116867  \n",
       "PAY_4                      -5.521373e+02                    0.105115  \n",
       "PAY_5                      -4.638926e+02                    0.096020  \n",
       "PAY_6                      -5.172163e+02                    0.089194  \n",
       "BILL_AMT1                   2.347681e+08                 -600.394108  \n",
       "BILL_AMT2                   2.204845e+08                 -419.289137  \n",
       "BILL_AMT3                   2.247817e+08                 -405.153680  \n",
       "BILL_AMT4                   2.031590e+08                 -271.199885  \n",
       "BILL_AMT5                   1.774537e+08                 -170.597447  \n",
       "BILL_AMT6                   1.222761e+08                 -132.796294  \n",
       "PAY_AMT1                    5.469033e+07                 -501.374552  \n",
       "PAY_AMT2                    6.456816e+07                 -560.210740  \n",
       "PAY_AMT3                    5.093879e+07                 -411.076284  \n",
       "PAY_AMT4                    4.395747e+07                 -369.515887  \n",
       "PAY_AMT5                    4.207110e+07                 -349.562530  \n",
       "PAY_AMT6                    3.160383e+08                 -392.426415  \n",
       "default payment next month -3.924264e+02                    0.172276  \n",
       "\n",
       "[25 rows x 25 columns]"
      ]
     },
     "execution_count": 42,
     "metadata": {},
     "output_type": "execute_result"
    }
   ],
   "source": [
    "covMat = data.cov()\n",
    "covMat"
   ]
  },
  {
   "cell_type": "markdown",
   "metadata": {
    "ExecuteTime": {
     "end_time": "2019-06-26T14:30:33.369480Z",
     "start_time": "2019-06-26T14:30:25.927800Z"
    }
   },
   "source": [
    "## Build and evaluate the models\n",
    "\n",
    "In this task you’ll build your models just as you have done previously, but with a different set of tools. As you progress remember the following:\n",
    "\n",
    "1. Let the data tell the story – don't make any assumptions.\n",
    "2. It is often best to build three or more models and compare the results.\n",
    "3. Make sure you have chosen the correct tools for the type of data you have.\n",
    "\n",
    "I suggest you start this task with a quick orientation on Sci-Kit Learn to become familiar with the benefits of using it and how to use it effectively for this project. "
   ]
  },
  {
   "cell_type": "code",
   "execution_count": null,
   "metadata": {},
   "outputs": [],
   "source": []
  },
  {
   "cell_type": "code",
   "execution_count": null,
   "metadata": {},
   "outputs": [],
   "source": []
  }
 ],
 "metadata": {
  "hide_input": false,
  "kernelspec": {
   "display_name": "Python 3",
   "language": "python",
   "name": "python3"
  },
  "language_info": {
   "codemirror_mode": {
    "name": "ipython",
    "version": 3
   },
   "file_extension": ".py",
   "mimetype": "text/x-python",
   "name": "python",
   "nbconvert_exporter": "python",
   "pygments_lexer": "ipython3",
   "version": "3.7.3"
  },
  "toc": {
   "base_numbering": 1,
   "nav_menu": {},
   "number_sections": false,
   "sideBar": true,
   "skip_h1_title": false,
   "title_cell": "Table of Contents",
   "title_sidebar": "Contents",
   "toc_cell": false,
   "toc_position": {},
   "toc_section_display": true,
   "toc_window_display": true
  },
  "varInspector": {
   "cols": {
    "lenName": 16,
    "lenType": 16,
    "lenVar": 40
   },
   "kernels_config": {
    "python": {
     "delete_cmd_postfix": "",
     "delete_cmd_prefix": "del ",
     "library": "var_list.py",
     "varRefreshCmd": "print(var_dic_list())"
    },
    "r": {
     "delete_cmd_postfix": ") ",
     "delete_cmd_prefix": "rm(",
     "library": "var_list.r",
     "varRefreshCmd": "cat(var_dic_list()) "
    }
   },
   "oldHeight": 341,
   "position": {
    "height": "799px",
    "left": "1452px",
    "right": "20px",
    "top": "56px",
    "width": "446px"
   },
   "types_to_exclude": [
    "module",
    "function",
    "builtin_function_or_method",
    "instance",
    "_Feature"
   ],
   "varInspector_section_display": "block",
   "window_display": true
  }
 },
 "nbformat": 4,
 "nbformat_minor": 2
}
