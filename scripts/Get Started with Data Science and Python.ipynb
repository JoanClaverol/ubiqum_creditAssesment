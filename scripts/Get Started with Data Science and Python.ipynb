{
 "cells": [
  {
   "cell_type": "markdown",
   "metadata": {},
   "source": [
    "## Define the goals"
   ]
  },
  {
   "cell_type": "markdown",
   "metadata": {
    "ExecuteTime": {
     "end_time": "2019-06-25T11:00:18.405102Z",
     "start_time": "2019-06-25T11:00:18.388110Z"
    }
   },
   "source": [
    "we have to focus the **BADIR** perspective; \n",
    "\n",
    "* **B** *usiness question*\n",
    "    - What is the stated business question?\n",
    "    - What is the intent underlying the question (e.g., what is the context, what is the impacted segment, and what are stakeholders’ current thoughts about the underlying reasons?\n",
    "    - What business considerations (e.g., stakeholders, timeline, and cost) are likely to impact the analysis?\n",
    "\n",
    "* **A** *nalysis plan*\n",
    "    - What is the analysis goal?\n",
    "    - What hypotheses are to be tested?\n",
    "    - What data is required/available to test the hypotheses?\n",
    "    - What methodology(-ies) will you employ?\n",
    "    - What is the project plan (timeline and milestones, risks, phasing, prioritization, …)?\n",
    "\n",
    "* **D** *ata collection*\n",
    "    - From where can the data be obtained?\n",
    "    - How must the data be cleansed and validated?\n",
    "\n",
    "* **I** *nsights*\n",
    "    - What patterns do you see in the data?\n",
    "    - Are each of the hypotheses proven or disproven?\n",
    "    - How much confidence should stakeholders place in the results?\n",
    "    - How do you rank your findings in terms of quantified impact on the business?\n",
    "\n",
    "* **R** *ecommendation*\n",
    "    - How can you most effectively present the results of your analysis to your stakeholders (in terms they can understand and in alignment with information they’ll value)?\n",
    "    - Note: A generic template for a recommendation presentation or report might include:\n",
    "    - Objective: Background (optional), Scope (optional), Approach (optional), Recommendations, Key insights with impact, Next steps"
   ]
  },
  {
   "cell_type": "code",
   "execution_count": 10,
   "metadata": {
    "ExecuteTime": {
     "end_time": "2019-06-25T12:01:16.206057Z",
     "start_time": "2019-06-25T12:01:16.200062Z"
    }
   },
   "outputs": [],
   "source": [
    "# import libraries\n",
    "import math as mt\n",
    "import numpy as pn\n",
    "from scipy import stats"
   ]
  },
  {
   "cell_type": "code",
   "execution_count": 9,
   "metadata": {
    "ExecuteTime": {
     "end_time": "2019-06-25T11:58:12.183055Z",
     "start_time": "2019-06-25T11:58:12.179058Z"
    }
   },
   "outputs": [],
   "source": [
    "temp = math.sqrt(25)"
   ]
  },
  {
   "cell_type": "code",
   "execution_count": 13,
   "metadata": {
    "ExecuteTime": {
     "end_time": "2019-06-25T12:03:17.292002Z",
     "start_time": "2019-06-25T12:03:17.288004Z"
    }
   },
   "outputs": [],
   "source": [
    "temp = np.random.rand(5,5)"
   ]
  },
  {
   "cell_type": "code",
   "execution_count": 16,
   "metadata": {
    "ExecuteTime": {
     "end_time": "2019-06-25T12:03:55.468004Z",
     "start_time": "2019-06-25T12:03:55.464005Z"
    }
   },
   "outputs": [],
   "source": [
    "temp_mean = np.mean(temp)"
   ]
  },
  {
   "cell_type": "code",
   "execution_count": 19,
   "metadata": {
    "ExecuteTime": {
     "end_time": "2019-06-25T12:15:17.869040Z",
     "start_time": "2019-06-25T12:15:17.863046Z"
    }
   },
   "outputs": [
    {
     "data": {
      "text/plain": [
       "0.4857722907995439"
      ]
     },
     "execution_count": 19,
     "metadata": {},
     "output_type": "execute_result"
    }
   ],
   "source": [
    "np.mean(temp_mean)"
   ]
  },
  {
   "cell_type": "code",
   "execution_count": 21,
   "metadata": {
    "ExecuteTime": {
     "end_time": "2019-06-25T12:15:36.878303Z",
     "start_time": "2019-06-25T12:15:36.872314Z"
    }
   },
   "outputs": [
    {
     "data": {
      "text/plain": [
       "int"
      ]
     },
     "execution_count": 21,
     "metadata": {},
     "output_type": "execute_result"
    }
   ],
   "source": [
    "temp = 25\n",
    "type(temp)"
   ]
  },
  {
   "cell_type": "code",
   "execution_count": 22,
   "metadata": {
    "ExecuteTime": {
     "end_time": "2019-06-25T12:16:53.118036Z",
     "start_time": "2019-06-25T12:16:53.113041Z"
    }
   },
   "outputs": [
    {
     "data": {
      "text/plain": [
       "float"
      ]
     },
     "execution_count": 22,
     "metadata": {},
     "output_type": "execute_result"
    }
   ],
   "source": [
    "temp = 25.0\n",
    "type(temp)"
   ]
  },
  {
   "cell_type": "code",
   "execution_count": 32,
   "metadata": {
    "ExecuteTime": {
     "end_time": "2019-06-25T12:58:29.565654Z",
     "start_time": "2019-06-25T12:58:29.559658Z"
    }
   },
   "outputs": [
    {
     "data": {
      "text/plain": [
       "[2, 3]"
      ]
     },
     "execution_count": 32,
     "metadata": {},
     "output_type": "execute_result"
    }
   ],
   "source": [
    "listOne = [1, 2, 3, 4]\n",
    "listOne[1:3]"
   ]
  },
  {
   "cell_type": "code",
   "execution_count": 36,
   "metadata": {
    "ExecuteTime": {
     "end_time": "2019-06-25T13:46:08.407697Z",
     "start_time": "2019-06-25T13:46:08.400704Z"
    }
   },
   "outputs": [
    {
     "data": {
      "text/plain": [
       "4098"
      ]
     },
     "execution_count": 36,
     "metadata": {},
     "output_type": "execute_result"
    }
   ],
   "source": [
    "# dictionary creation\n",
    "tel = {\"jack\": 4098, \n",
    "       \"sape\": 4139}\n",
    "tel[\"jack\"]"
   ]
  },
  {
   "cell_type": "markdown",
   "metadata": {
    "ExecuteTime": {
     "end_time": "2019-06-25T12:59:28.412854Z",
     "start_time": "2019-06-25T12:59:28.406840Z"
    }
   },
   "source": [
    "## Prepare and explore the data"
   ]
  },
  {
   "cell_type": "code",
   "execution_count": null,
   "metadata": {},
   "outputs": [],
   "source": []
  }
 ],
 "metadata": {
  "hide_input": false,
  "kernelspec": {
   "display_name": "Python 3",
   "language": "python",
   "name": "python3"
  },
  "language_info": {
   "codemirror_mode": {
    "name": "ipython",
    "version": 3
   },
   "file_extension": ".py",
   "mimetype": "text/x-python",
   "name": "python",
   "nbconvert_exporter": "python",
   "pygments_lexer": "ipython3",
   "version": "3.7.3"
  },
  "toc": {
   "base_numbering": 1,
   "nav_menu": {},
   "number_sections": false,
   "sideBar": true,
   "skip_h1_title": false,
   "title_cell": "Table of Contents",
   "title_sidebar": "Contents",
   "toc_cell": false,
   "toc_position": {},
   "toc_section_display": true,
   "toc_window_display": true
  },
  "varInspector": {
   "cols": {
    "lenName": 16,
    "lenType": 16,
    "lenVar": 40
   },
   "kernels_config": {
    "python": {
     "delete_cmd_postfix": "",
     "delete_cmd_prefix": "del ",
     "library": "var_list.py",
     "varRefreshCmd": "print(var_dic_list())"
    },
    "r": {
     "delete_cmd_postfix": ") ",
     "delete_cmd_prefix": "rm(",
     "library": "var_list.r",
     "varRefreshCmd": "cat(var_dic_list()) "
    }
   },
   "position": {
    "height": "786px",
    "left": "1566px",
    "right": "20px",
    "top": "120px",
    "width": "334px"
   },
   "types_to_exclude": [
    "module",
    "function",
    "builtin_function_or_method",
    "instance",
    "_Feature"
   ],
   "window_display": true
  }
 },
 "nbformat": 4,
 "nbformat_minor": 2
}
